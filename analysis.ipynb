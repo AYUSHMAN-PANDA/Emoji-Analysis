{
 "cells": [
  {
   "cell_type": "code",
   "execution_count": 5,
   "metadata": {},
   "outputs": [],
   "source": [
    "import pandas as pd\n",
    "import numpy as np\n",
    "from statsmodels.stats.anova import AnovaRM\n",
    "\n"
   ]
  },
  {
   "cell_type": "code",
   "execution_count": 6,
   "metadata": {},
   "outputs": [],
   "source": [
    "sheet1_responses = pd.read_csv(\"sheet1.csv\")\n",
    "sheet2_responses = pd.read_csv(\"sheet2.csv\")\n",
    "sheet3_responses = pd.read_csv(\"sheet3.csv\")"
   ]
  },
  {
   "cell_type": "code",
   "execution_count": 7,
   "metadata": {},
   "outputs": [],
   "source": [
    "sheet_U_B = [None]*4\n",
    "sheet_U_B[1] = sheet1_responses[sheet1_responses.columns[5:23]]\n",
    "sheet_U_B[2] = sheet2_responses[sheet2_responses.columns[5:23]]\n",
    "sheet_U_B[3] = sheet3_responses[sheet3_responses.columns[5:23]]"
   ]
  },
  {
   "cell_type": "code",
   "execution_count": 8,
   "metadata": {},
   "outputs": [],
   "source": [
    "N_U = []\n",
    "I_U = []\n",
    "C_U = []\n",
    "N_B = []\n",
    "I_B = []\n",
    "C_B = []\n",
    "for sheet_no in range(1, 4):\n",
    "    for feature in ['U', 'B']:\n",
    "        for index in range(1, 10):\n",
    "            temp = sheet_U_B[sheet_no][feature+str(index)]\n",
    "            type = temp[0]\n",
    "            if type == 'N':\n",
    "                for i in range(1, len(temp)):\n",
    "                    if feature=='U':\n",
    "                        N_U.append(int(temp[i]))\n",
    "                    else:\n",
    "                        N_B.append(int(temp[i]))\n",
    "            if type == 'I':\n",
    "                for i in range(1, len(temp)):\n",
    "                    if feature=='U':\n",
    "                        I_U.append(int(temp[i]))\n",
    "                    else:\n",
    "                        I_B.append(int(temp[i]))\n",
    "            if type == 'C':\n",
    "                for i in range(1, len(temp)):\n",
    "                    if feature=='U':\n",
    "                        C_U.append(int(temp[i]))\n",
    "                    else:\n",
    "                        C_B.append(int(temp[i]))\n"
   ]
  },
  {
   "cell_type": "code",
   "execution_count": 9,
   "metadata": {},
   "outputs": [
    {
     "name": "stdout",
     "output_type": "stream",
     "text": [
      "Neutral_U Average : 5.765625\n",
      "Incong_U Average : 5.583333333333333\n",
      "Cong_U Average : 6.036458333333333\n",
      "Neutral_B Average : 4.854166666666667\n",
      "Incong_B Average : 4.526041666666667\n",
      "Cong_B Average : 5.276041666666667\n"
     ]
    }
   ],
   "source": [
    "print('Neutral_U Average : {avg}'.format(avg = sum(N_U)/len(N_U)))\n",
    "print('Incong_U Average : {avg}'.format(avg = sum(I_U)/len(I_U)))\n",
    "print('Cong_U Average : {avg}'.format(avg = sum(C_U)/len(C_U)))\n",
    "print('Neutral_B Average : {avg}'.format(avg = sum(N_B)/len(N_B)))\n",
    "print('Incong_B Average : {avg}'.format(avg = sum(I_B)/len(I_B)))\n",
    "print('Cong_B Average : {avg}'.format(avg = sum(C_B)/len(C_B)))"
   ]
  },
  {
   "cell_type": "code",
   "execution_count": 81,
   "metadata": {},
   "outputs": [],
   "source": [
    "# inference from average ratings given by participants on a scale of 1-7\n",
    "#incongruent less believable \n",
    "#congruent most believable\n",
    "#Incongruent least understandable\n",
    "#Congruent most understandable"
   ]
  },
  {
   "cell_type": "code",
   "execution_count": 16,
   "metadata": {},
   "outputs": [],
   "source": [
    "combined_results = pd.DataFrame(np.column_stack([N_U, I_U, C_U, N_B, I_B, C_B]), columns=[\"N_U\", \"I_U\", \"C_U\", \"N_B\", \"I_B\", \"C_B\"])\n",
    "# combined_results"
   ]
  },
  {
   "cell_type": "code",
   "execution_count": 17,
   "metadata": {},
   "outputs": [],
   "source": [
    "combined_results.to_csv(\"combined.csv\")"
   ]
  },
  {
   "cell_type": "code",
   "execution_count": 2,
   "metadata": {},
   "outputs": [],
   "source": [
    "# repeated measures ANOVA:\n",
    "# https://www.geeksforgeeks.org/how-to-perform-a-repeated-measures-anova-in-python/\n"
   ]
  },
  {
   "cell_type": "code",
   "execution_count": null,
   "metadata": {},
   "outputs": [],
   "source": []
  },
  {
   "cell_type": "code",
   "execution_count": null,
   "metadata": {},
   "outputs": [],
   "source": [
    "# https://www.youtube.com/watch?v=BOGCsSzQNR4&t=9s"
   ]
  }
 ],
 "metadata": {
  "kernelspec": {
   "display_name": "Python 3.10.6 ('aarg')",
   "language": "python",
   "name": "python3"
  },
  "language_info": {
   "codemirror_mode": {
    "name": "ipython",
    "version": 3
   },
   "file_extension": ".py",
   "mimetype": "text/x-python",
   "name": "python",
   "nbconvert_exporter": "python",
   "pygments_lexer": "ipython3",
   "version": "3.10.6"
  },
  "orig_nbformat": 4,
  "vscode": {
   "interpreter": {
    "hash": "91306a0342baff30ad0348a9b8bf9d4ef984c4dd53a6d73c73bce2dbea04d60d"
   }
  }
 },
 "nbformat": 4,
 "nbformat_minor": 2
}
